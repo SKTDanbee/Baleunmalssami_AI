{
 "cells": [
  {
   "cell_type": "code",
   "execution_count": 1,
   "metadata": {},
   "outputs": [
    {
     "name": "stdout",
     "output_type": "stream",
     "text": [
      "/Users/hojoonkim/GITHUB/Ansim_Keyboard/DATA/텍스트 윤리검증 데이터\n"
     ]
    }
   ],
   "source": [
    "import os \n",
    "print(os.getcwd())"
   ]
  },
  {
   "cell_type": "code",
   "execution_count": 1,
   "metadata": {},
   "outputs": [],
   "source": [
    "import pandas as pd\n",
    "import numpy as np\n",
    "import matplotlib.pyplot as plt\n",
    "import seaborn as sns\n",
    "\n",
    "# Load the data\n",
    "train_1 = pd.read_json('01.데이터/1.Training/라벨링데이터/aihub/TL1_aihub/talksets-train-1/talksets-train-1_aihub.json')\n",
    "train_2 = pd.read_json('01.데이터/1.Training/라벨링데이터/aihub/TL1_aihub/talksets-train-2/talksets-train-2.json')\n",
    "train_3 = pd.read_json('01.데이터/1.Training/라벨링데이터/aihub/TL1_aihub/talksets-train-3/talksets-train-3.json')\n",
    "train_4 = pd.read_json('01.데이터/1.Training/라벨링데이터/aihub/TL1_aihub/talksets-train-4/talksets-train-4.json')\n",
    "train_5 = pd.read_json('01.데이터/1.Training/라벨링데이터/aihub/TL1_aihub/talksets-train-5/talksets-train-5.json')\n",
    "\n",
    "valid = pd.read_json(\"./01.데이터/2.Validation/라벨링데이터/aihub/talksets-train-6/talksets-train-6.json\")"
   ]
  },
  {
   "cell_type": "code",
   "execution_count": 2,
   "metadata": {},
   "outputs": [
    {
     "data": {
      "text/plain": [
       "13298"
      ]
     },
     "execution_count": 2,
     "metadata": {},
     "output_type": "execute_result"
    }
   ],
   "source": [
    "valid.__len__()"
   ]
  },
  {
   "cell_type": "code",
   "execution_count": 3,
   "metadata": {},
   "outputs": [],
   "source": [
    "# Concatenate the data\n",
    "train = pd.concat([train_1, train_2, train_3, train_4, train_5], axis=0)"
   ]
  },
  {
   "cell_type": "code",
   "execution_count": 4,
   "metadata": {},
   "outputs": [
    {
     "data": {
      "text/plain": [
       "{'id': '615281b0aab10bca18a468e2-1',\n",
       " 'speaker': 1,\n",
       " 'origin_text': '부랴부랴 왔는데 아무도 안왔네. 시간개념들이 없네',\n",
       " 'text': '부랴부랴 왔는데 아무도 안왔네. 시간개념들이 없네',\n",
       " 'types': ['CENSURE'],\n",
       " 'is_immoral': True,\n",
       " 'intensity': 2.0,\n",
       " 'intensity_sum': 10,\n",
       " 'votes': [{'intensity': 'IRRITABLE', 'voter': {'gender': 'MALE', 'age': 20}},\n",
       "  {'intensity': 'IRRITABLE', 'voter': {'gender': 'MALE', 'age': 40}},\n",
       "  {'intensity': 'IRRITABLE', 'voter': {'gender': 'MALE', 'age': 60}},\n",
       "  {'intensity': 'IRRITABLE', 'voter': {'gender': 'MALE', 'age': 50}},\n",
       "  {'intensity': 'IRRITABLE', 'voter': {'gender': 'MALE', 'age': 20}}],\n",
       " 'frame_id': 48327,\n",
       " 'mapped_slots': [{'slot': 'V1', 'token': '오다', 'lu_id': 19549},\n",
       "  {'slot': 'N1', 'token': '아무', 'lu_id': 12468},\n",
       "  {'slot': 'V2', 'token': '안오다', 'lu_id': 42059},\n",
       "  {'slot': 'N2', 'token': '시간', 'lu_id': 11939},\n",
       "  {'slot': 'N3', 'token': '개념들', 'lu_id': 20303},\n",
       "  {'slot': 'V3', 'token': '없다', 'lu_id': 19543}]}"
      ]
     },
     "execution_count": 4,
     "metadata": {},
     "output_type": "execute_result"
    }
   ],
   "source": [
    "train.iloc[0]['sentences'][0]"
   ]
  },
  {
   "cell_type": "code",
   "execution_count": 3,
   "metadata": {},
   "outputs": [],
   "source": [
    "def preprocessing(df):\n",
    "    temp_df = pd.DataFrame(columns=['conversation_idx', 'sentence_idx', 'origin_text', 'types', 'is_immoral', \"intensity\", \"speaker\"])\n",
    "\n",
    "    temp_list = []\n",
    "    \n",
    "    for i in range(len(df)):\n",
    "        sentences = df.iloc[i]['sentences']\n",
    "        \n",
    "        for j in range(len(sentences)):\n",
    "            conversation_idx = i\n",
    "            sentence_idx = j\n",
    "            origin_text = sentences[j]['origin_text']\n",
    "            types = sentences[j]['types']\n",
    "            is_immoral = sentences[j]['is_immoral']\n",
    "            intensity = sentences[j]['intensity']\n",
    "            speaker = sentences[j]['speaker']\n",
    "            \n",
    "            speaker = chr(64 + speaker)\n",
    "\n",
    "            temp_list.append([conversation_idx, sentence_idx, origin_text, types, is_immoral, intensity, speaker])\n",
    "\n",
    "    temp_df = pd.DataFrame(temp_list, columns=['conversation_idx', 'sentence_idx', 'origin_text', 'types', 'is_immoral', \"intensity\", \"speaker\"])\n",
    "    \n",
    "    return temp_df\n",
    "\n",
    "# train = preprocessing(train)\n",
    "valid = preprocessing(valid)"
   ]
  },
  {
   "cell_type": "code",
   "execution_count": 6,
   "metadata": {},
   "outputs": [
    {
     "data": {
      "text/html": [
       "<div>\n",
       "<style scoped>\n",
       "    .dataframe tbody tr th:only-of-type {\n",
       "        vertical-align: middle;\n",
       "    }\n",
       "\n",
       "    .dataframe tbody tr th {\n",
       "        vertical-align: top;\n",
       "    }\n",
       "\n",
       "    .dataframe thead th {\n",
       "        text-align: right;\n",
       "    }\n",
       "</style>\n",
       "<table border=\"1\" class=\"dataframe\">\n",
       "  <thead>\n",
       "    <tr style=\"text-align: right;\">\n",
       "      <th></th>\n",
       "      <th>conversation_idx</th>\n",
       "      <th>sentence_idx</th>\n",
       "      <th>origin_text</th>\n",
       "      <th>types</th>\n",
       "      <th>is_immoral</th>\n",
       "      <th>intensity</th>\n",
       "      <th>speaker</th>\n",
       "    </tr>\n",
       "  </thead>\n",
       "  <tbody>\n",
       "    <tr>\n",
       "      <th>0</th>\n",
       "      <td>0</td>\n",
       "      <td>0</td>\n",
       "      <td>부랴부랴 왔는데 아무도 안왔네. 시간개념들이 없네</td>\n",
       "      <td>[CENSURE]</td>\n",
       "      <td>True</td>\n",
       "      <td>2.0</td>\n",
       "      <td>A</td>\n",
       "    </tr>\n",
       "    <tr>\n",
       "      <th>1</th>\n",
       "      <td>0</td>\n",
       "      <td>1</td>\n",
       "      <td>맞아. 사람들이 진짜 개념이없다</td>\n",
       "      <td>[CENSURE]</td>\n",
       "      <td>True</td>\n",
       "      <td>2.0</td>\n",
       "      <td>B</td>\n",
       "    </tr>\n",
       "    <tr>\n",
       "      <th>2</th>\n",
       "      <td>0</td>\n",
       "      <td>2</td>\n",
       "      <td>저렇게는 살지 말아야지</td>\n",
       "      <td>[CENSURE]</td>\n",
       "      <td>True</td>\n",
       "      <td>2.0</td>\n",
       "      <td>A</td>\n",
       "    </tr>\n",
       "    <tr>\n",
       "      <th>3</th>\n",
       "      <td>0</td>\n",
       "      <td>3</td>\n",
       "      <td>그러게 게으르고 멍청한 사람들은 맞아야해</td>\n",
       "      <td>[CENSURE]</td>\n",
       "      <td>True</td>\n",
       "      <td>2.0</td>\n",
       "      <td>B</td>\n",
       "    </tr>\n",
       "    <tr>\n",
       "      <th>4</th>\n",
       "      <td>1</td>\n",
       "      <td>0</td>\n",
       "      <td>인방 보는 남자는 거르는게 맞다</td>\n",
       "      <td>[CENSURE]</td>\n",
       "      <td>True</td>\n",
       "      <td>1.0</td>\n",
       "      <td>A</td>\n",
       "    </tr>\n",
       "  </tbody>\n",
       "</table>\n",
       "</div>"
      ],
      "text/plain": [
       "   conversation_idx  sentence_idx                  origin_text      types  \\\n",
       "0                 0             0  부랴부랴 왔는데 아무도 안왔네. 시간개념들이 없네  [CENSURE]   \n",
       "1                 0             1            맞아. 사람들이 진짜 개념이없다  [CENSURE]   \n",
       "2                 0             2                 저렇게는 살지 말아야지  [CENSURE]   \n",
       "3                 0             3       그러게 게으르고 멍청한 사람들은 맞아야해  [CENSURE]   \n",
       "4                 1             0            인방 보는 남자는 거르는게 맞다  [CENSURE]   \n",
       "\n",
       "   is_immoral  intensity speaker  \n",
       "0        True        2.0       A  \n",
       "1        True        2.0       B  \n",
       "2        True        2.0       A  \n",
       "3        True        2.0       B  \n",
       "4        True        1.0       A  "
      ]
     },
     "execution_count": 6,
     "metadata": {},
     "output_type": "execute_result"
    }
   ],
   "source": [
    "train.head()"
   ]
  },
  {
   "cell_type": "code",
   "execution_count": 7,
   "metadata": {},
   "outputs": [
    {
     "data": {
      "text/plain": [
       "is_immoral\n",
       "True     200206\n",
       "False    162948\n",
       "Name: count, dtype: int64"
      ]
     },
     "execution_count": 7,
     "metadata": {},
     "output_type": "execute_result"
    }
   ],
   "source": [
    "train['is_immoral'].value_counts()"
   ]
  },
  {
   "cell_type": "code",
   "execution_count": 8,
   "metadata": {},
   "outputs": [
    {
     "data": {
      "text/plain": [
       "speaker\n",
       "A    209435\n",
       "B    146933\n",
       "C      6259\n",
       "D       459\n",
       "E        68\n",
       "Name: count, dtype: int64"
      ]
     },
     "execution_count": 8,
     "metadata": {},
     "output_type": "execute_result"
    }
   ],
   "source": [
    "train['speaker'].value_counts()"
   ]
  },
  {
   "cell_type": "code",
   "execution_count": 9,
   "metadata": {},
   "outputs": [
    {
     "data": {
      "text/plain": [
       "types\n",
       "[IMMORAL_NONE]                                      162948\n",
       "[CENSURE]                                            91409\n",
       "[HATE, CENSURE]                                      17778\n",
       "[DISCRIMINATION, CENSURE]                             8221\n",
       "[HATE]                                                6657\n",
       "                                                     ...  \n",
       "[DISCRIMINATION, ABUSE, CENSURE, HATE]                   1\n",
       "[CENSURE, DISCRIMINATION, HATE, CRIME, VIOLENCE]         1\n",
       "[HATE, ABUSE, CRIME]                                     1\n",
       "[DISCRIMINATION, CRIME, CENSURE]                         1\n",
       "[CRIME, SEXUAL, ABUSE, HATE, CENSURE, VIOLENCE]          1\n",
       "Name: count, Length: 641, dtype: int64"
      ]
     },
     "execution_count": 9,
     "metadata": {},
     "output_type": "execute_result"
    }
   ],
   "source": [
    "train['types'].value_counts()"
   ]
  },
  {
   "cell_type": "code",
   "execution_count": 4,
   "metadata": {},
   "outputs": [],
   "source": [
    "# train.to_csv(\"텍스트_윤리검증_train.csv\", index=False)  \n",
    "# valid.to_csv(\"텍스트_윤리검증_valid.csv\", index=False)"
   ]
  },
  {
   "cell_type": "code",
   "execution_count": null,
   "metadata": {},
   "outputs": [],
   "source": []
  }
 ],
 "metadata": {
  "kernelspec": {
   "display_name": "Python 3",
   "language": "python",
   "name": "python3"
  },
  "language_info": {
   "codemirror_mode": {
    "name": "ipython",
    "version": 3
   },
   "file_extension": ".py",
   "mimetype": "text/x-python",
   "name": "python",
   "nbconvert_exporter": "python",
   "pygments_lexer": "ipython3",
   "version": "3.9.18"
  }
 },
 "nbformat": 4,
 "nbformat_minor": 2
}
