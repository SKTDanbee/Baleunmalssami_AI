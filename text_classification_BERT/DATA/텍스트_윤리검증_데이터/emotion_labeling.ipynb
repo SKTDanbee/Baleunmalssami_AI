{
 "cells": [
  {
   "cell_type": "code",
   "execution_count": 1,
   "metadata": {},
   "outputs": [
    {
     "name": "stderr",
     "output_type": "stream",
     "text": [
      "/opt/anaconda3/envs/pytorch_SKT/lib/python3.9/site-packages/transformers/tokenization_utils_base.py:1601: FutureWarning: `clean_up_tokenization_spaces` was not set. It will be set to `True` by default. This behavior will be depracted in transformers v4.45, and will be then set to `False` by default. For more details check this issue: https://github.com/huggingface/transformers/issues/31884\n",
      "  warnings.warn(\n",
      "/opt/anaconda3/envs/pytorch_SKT/lib/python3.9/site-packages/transformers/pipelines/text_classification.py:104: UserWarning: `return_all_scores` is now deprecated,  if want a similar functionality use `top_k=None` instead of `return_all_scores=True` or `top_k=1` instead of `return_all_scores=False`.\n",
      "  warnings.warn(\n"
     ]
    }
   ],
   "source": [
    "from transformers import AutoTokenizer, AutoModelForSequenceClassification, TextClassificationPipeline\n",
    "\n",
    "model_name = \"searle-j/kote_for_easygoing_people\"\n",
    "model = AutoModelForSequenceClassification.from_pretrained(model_name)\n",
    "tokenizer = AutoTokenizer.from_pretrained(model_name)\n",
    "device = 'mps'\n",
    "\n",
    "pipe = TextClassificationPipeline(\n",
    "        model=model,\n",
    "        tokenizer=tokenizer,\n",
    "        device=device, # gpu number, -1 if cpu used\n",
    "        return_all_scores=True,\n",
    "        function_to_apply='sigmoid'\n",
    "    )\n"
   ]
  },
  {
   "cell_type": "code",
   "execution_count": 14,
   "metadata": {},
   "outputs": [
    {
     "data": {
      "text/html": [
       "<div>\n",
       "<style scoped>\n",
       "    .dataframe tbody tr th:only-of-type {\n",
       "        vertical-align: middle;\n",
       "    }\n",
       "\n",
       "    .dataframe tbody tr th {\n",
       "        vertical-align: top;\n",
       "    }\n",
       "\n",
       "    .dataframe thead th {\n",
       "        text-align: right;\n",
       "    }\n",
       "</style>\n",
       "<table border=\"1\" class=\"dataframe\">\n",
       "  <thead>\n",
       "    <tr style=\"text-align: right;\">\n",
       "      <th></th>\n",
       "      <th>conversation_idx</th>\n",
       "      <th>sentence_idx</th>\n",
       "      <th>origin_text</th>\n",
       "      <th>types</th>\n",
       "      <th>is_immoral</th>\n",
       "      <th>intensity</th>\n",
       "      <th>speaker</th>\n",
       "    </tr>\n",
       "  </thead>\n",
       "  <tbody>\n",
       "    <tr>\n",
       "      <th>0</th>\n",
       "      <td>0</td>\n",
       "      <td>0</td>\n",
       "      <td>부랴부랴 왔는데 아무도 안왔네. 시간개념들이 없네</td>\n",
       "      <td>['CENSURE']</td>\n",
       "      <td>True</td>\n",
       "      <td>2.0</td>\n",
       "      <td>A</td>\n",
       "    </tr>\n",
       "    <tr>\n",
       "      <th>1</th>\n",
       "      <td>0</td>\n",
       "      <td>1</td>\n",
       "      <td>맞아. 사람들이 진짜 개념이없다</td>\n",
       "      <td>['CENSURE']</td>\n",
       "      <td>True</td>\n",
       "      <td>2.0</td>\n",
       "      <td>B</td>\n",
       "    </tr>\n",
       "    <tr>\n",
       "      <th>2</th>\n",
       "      <td>0</td>\n",
       "      <td>2</td>\n",
       "      <td>저렇게는 살지 말아야지</td>\n",
       "      <td>['CENSURE']</td>\n",
       "      <td>True</td>\n",
       "      <td>2.0</td>\n",
       "      <td>A</td>\n",
       "    </tr>\n",
       "    <tr>\n",
       "      <th>3</th>\n",
       "      <td>0</td>\n",
       "      <td>3</td>\n",
       "      <td>그러게 게으르고 멍청한 사람들은 맞아야해</td>\n",
       "      <td>['CENSURE']</td>\n",
       "      <td>True</td>\n",
       "      <td>2.0</td>\n",
       "      <td>B</td>\n",
       "    </tr>\n",
       "    <tr>\n",
       "      <th>4</th>\n",
       "      <td>1</td>\n",
       "      <td>0</td>\n",
       "      <td>인방 보는 남자는 거르는게 맞다</td>\n",
       "      <td>['CENSURE']</td>\n",
       "      <td>True</td>\n",
       "      <td>1.0</td>\n",
       "      <td>A</td>\n",
       "    </tr>\n",
       "  </tbody>\n",
       "</table>\n",
       "</div>"
      ],
      "text/plain": [
       "   conversation_idx  sentence_idx                  origin_text        types  \\\n",
       "0                 0             0  부랴부랴 왔는데 아무도 안왔네. 시간개념들이 없네  ['CENSURE']   \n",
       "1                 0             1            맞아. 사람들이 진짜 개념이없다  ['CENSURE']   \n",
       "2                 0             2                 저렇게는 살지 말아야지  ['CENSURE']   \n",
       "3                 0             3       그러게 게으르고 멍청한 사람들은 맞아야해  ['CENSURE']   \n",
       "4                 1             0            인방 보는 남자는 거르는게 맞다  ['CENSURE']   \n",
       "\n",
       "   is_immoral  intensity speaker  \n",
       "0        True        2.0       A  \n",
       "1        True        2.0       B  \n",
       "2        True        2.0       A  \n",
       "3        True        2.0       B  \n",
       "4        True        1.0       A  "
      ]
     },
     "execution_count": 14,
     "metadata": {},
     "output_type": "execute_result"
    }
   ],
   "source": [
    "import pandas as pd\n",
    "\n",
    "df = pd.read_csv('텍스트_윤리검증_train.csv')\n",
    "df.head()"
   ]
  },
  {
   "cell_type": "code",
   "execution_count": 3,
   "metadata": {},
   "outputs": [
    {
     "data": {
      "text/plain": [
       "[{'label': '불평/불만', 'score': 0.9518845081329346},\n",
       " {'label': '환영/호의', 'score': 0.0028544499073177576},\n",
       " {'label': '감동/감탄', 'score': 0.003995489329099655},\n",
       " {'label': '지긋지긋', 'score': 0.11973022669553757},\n",
       " {'label': '고마움', 'score': 0.0010144844418391585},\n",
       " {'label': '슬픔', 'score': 0.05571465566754341},\n",
       " {'label': '화남/분노', 'score': 0.6774910688400269},\n",
       " {'label': '존경', 'score': 0.00042167434003204107},\n",
       " {'label': '기대감', 'score': 0.004941482562571764},\n",
       " {'label': '우쭐댐/무시함', 'score': 0.035073600709438324},\n",
       " {'label': '안타까움/실망', 'score': 0.8867160677909851},\n",
       " {'label': '비장함', 'score': 0.0018034239765256643},\n",
       " {'label': '의심/불신', 'score': 0.20897753536701202},\n",
       " {'label': '뿌듯함', 'score': 0.0011958081740885973},\n",
       " {'label': '편안/쾌적', 'score': 0.0005761024658568203},\n",
       " {'label': '신기함/관심', 'score': 0.01138535887002945},\n",
       " {'label': '아껴주는', 'score': 0.004767137113958597},\n",
       " {'label': '부끄러움', 'score': 0.04189775884151459},\n",
       " {'label': '공포/무서움', 'score': 0.0034784041345119476},\n",
       " {'label': '절망', 'score': 0.06107548996806145},\n",
       " {'label': '한심함', 'score': 0.5457140803337097},\n",
       " {'label': '역겨움/징그러움', 'score': 0.018506649881601334},\n",
       " {'label': '짜증', 'score': 0.9492508769035339},\n",
       " {'label': '어이없음', 'score': 0.9637372493743896},\n",
       " {'label': '없음', 'score': 0.015212790109217167},\n",
       " {'label': '패배/자기혐오', 'score': 0.01174083724617958},\n",
       " {'label': '귀찮음', 'score': 0.059643395245075226},\n",
       " {'label': '힘듦/지침', 'score': 0.060995426028966904},\n",
       " {'label': '즐거움/신남', 'score': 0.007478259038180113},\n",
       " {'label': '깨달음', 'score': 0.014378746971487999},\n",
       " {'label': '죄책감', 'score': 0.003868637839332223},\n",
       " {'label': '증오/혐오', 'score': 0.04295225068926811},\n",
       " {'label': '흐뭇함(귀여움/예쁨)', 'score': 0.0014612845843657851},\n",
       " {'label': '당황/난처', 'score': 0.8661285042762756},\n",
       " {'label': '경악', 'score': 0.14789670705795288},\n",
       " {'label': '부담/안_내킴', 'score': 0.09953933954238892},\n",
       " {'label': '서러움', 'score': 0.04433877021074295},\n",
       " {'label': '재미없음', 'score': 0.07510353624820709},\n",
       " {'label': '불쌍함/연민', 'score': 0.05660220608115196},\n",
       " {'label': '놀람', 'score': 0.11103149503469467},\n",
       " {'label': '행복', 'score': 0.0012232395820319653},\n",
       " {'label': '불안/걱정', 'score': 0.08204440772533417},\n",
       " {'label': '기쁨', 'score': 0.0035392327699810266},\n",
       " {'label': '안심/신뢰', 'score': 0.0017296094447374344}]"
      ]
     },
     "execution_count": 3,
     "metadata": {},
     "output_type": "execute_result"
    }
   ],
   "source": [
    "from pprint import pprint\n",
    "result =pipe(df['origin_text'][0])\n",
    "result[0]"
   ]
  },
  {
   "cell_type": "code",
   "execution_count": 4,
   "metadata": {},
   "outputs": [],
   "source": [
    "label_list = []\n",
    "\n",
    "for i in range(len(result[0])):\n",
    "    label_list.append(result[0][i]['label'])"
   ]
  },
  {
   "cell_type": "code",
   "execution_count": 5,
   "metadata": {},
   "outputs": [
    {
     "data": {
      "text/plain": [
       "['불평/불만',\n",
       " '환영/호의',\n",
       " '감동/감탄',\n",
       " '지긋지긋',\n",
       " '고마움',\n",
       " '슬픔',\n",
       " '화남/분노',\n",
       " '존경',\n",
       " '기대감',\n",
       " '우쭐댐/무시함',\n",
       " '안타까움/실망',\n",
       " '비장함',\n",
       " '의심/불신',\n",
       " '뿌듯함',\n",
       " '편안/쾌적',\n",
       " '신기함/관심',\n",
       " '아껴주는',\n",
       " '부끄러움',\n",
       " '공포/무서움',\n",
       " '절망',\n",
       " '한심함',\n",
       " '역겨움/징그러움',\n",
       " '짜증',\n",
       " '어이없음',\n",
       " '없음',\n",
       " '패배/자기혐오',\n",
       " '귀찮음',\n",
       " '힘듦/지침',\n",
       " '즐거움/신남',\n",
       " '깨달음',\n",
       " '죄책감',\n",
       " '증오/혐오',\n",
       " '흐뭇함(귀여움/예쁨)',\n",
       " '당황/난처',\n",
       " '경악',\n",
       " '부담/안_내킴',\n",
       " '서러움',\n",
       " '재미없음',\n",
       " '불쌍함/연민',\n",
       " '놀람',\n",
       " '행복',\n",
       " '불안/걱정',\n",
       " '기쁨',\n",
       " '안심/신뢰']"
      ]
     },
     "execution_count": 5,
     "metadata": {},
     "output_type": "execute_result"
    }
   ],
   "source": [
    "label_list"
   ]
  },
  {
   "cell_type": "code",
   "execution_count": 6,
   "metadata": {},
   "outputs": [],
   "source": [
    "for label in label_list:\n",
    "    if label not in df.columns:\n",
    "        df[label] = 0.0  # 초기값을 0.0으로 설정"
   ]
  },
  {
   "cell_type": "code",
   "execution_count": 9,
   "metadata": {},
   "outputs": [
    {
     "name": "stderr",
     "output_type": "stream",
     "text": [
      "huggingface/tokenizers: The current process just got forked, after parallelism has already been used. Disabling parallelism to avoid deadlocks...\n",
      "To disable this warning, you can either:\n",
      "\t- Avoid using `tokenizers` before the fork if possible\n",
      "\t- Explicitly set the environment variable TOKENIZERS_PARALLELISM=(true | false)\n",
      "100%|██████████| 363154/363154 [1:37:54<00:00, 61.82it/s]  \n"
     ]
    }
   ],
   "source": [
    "from tqdm import tqdm\n",
    "\n",
    "for i in tqdm(range(len(df))):\n",
    "    result = pipe(df['origin_text'][i])\n",
    "    \n",
    "    for j in range(len(label_list)):\n",
    "        df.loc[i, label_list[j]] = result[0][j]['score']"
   ]
  },
  {
   "cell_type": "code",
   "execution_count": 10,
   "metadata": {},
   "outputs": [],
   "source": [
    "df.to_csv('emotion_labeld_text.csv', index=False)"
   ]
  },
  {
   "cell_type": "code",
   "execution_count": 11,
   "metadata": {},
   "outputs": [
    {
     "data": {
      "text/html": [
       "<div>\n",
       "<style scoped>\n",
       "    .dataframe tbody tr th:only-of-type {\n",
       "        vertical-align: middle;\n",
       "    }\n",
       "\n",
       "    .dataframe tbody tr th {\n",
       "        vertical-align: top;\n",
       "    }\n",
       "\n",
       "    .dataframe thead th {\n",
       "        text-align: right;\n",
       "    }\n",
       "</style>\n",
       "<table border=\"1\" class=\"dataframe\">\n",
       "  <thead>\n",
       "    <tr style=\"text-align: right;\">\n",
       "      <th></th>\n",
       "      <th>conversation_idx</th>\n",
       "      <th>sentence_idx</th>\n",
       "      <th>origin_text</th>\n",
       "      <th>types</th>\n",
       "      <th>is_immoral</th>\n",
       "      <th>intensity</th>\n",
       "      <th>speaker</th>\n",
       "      <th>불평/불만</th>\n",
       "      <th>환영/호의</th>\n",
       "      <th>감동/감탄</th>\n",
       "      <th>...</th>\n",
       "      <th>경악</th>\n",
       "      <th>부담/안_내킴</th>\n",
       "      <th>서러움</th>\n",
       "      <th>재미없음</th>\n",
       "      <th>불쌍함/연민</th>\n",
       "      <th>놀람</th>\n",
       "      <th>행복</th>\n",
       "      <th>불안/걱정</th>\n",
       "      <th>기쁨</th>\n",
       "      <th>안심/신뢰</th>\n",
       "    </tr>\n",
       "  </thead>\n",
       "  <tbody>\n",
       "    <tr>\n",
       "      <th>0</th>\n",
       "      <td>0</td>\n",
       "      <td>0</td>\n",
       "      <td>부랴부랴 왔는데 아무도 안왔네. 시간개념들이 없네</td>\n",
       "      <td>['CENSURE']</td>\n",
       "      <td>True</td>\n",
       "      <td>2.0</td>\n",
       "      <td>A</td>\n",
       "      <td>0.951885</td>\n",
       "      <td>0.002854</td>\n",
       "      <td>0.003995</td>\n",
       "      <td>...</td>\n",
       "      <td>0.147897</td>\n",
       "      <td>0.099539</td>\n",
       "      <td>0.044339</td>\n",
       "      <td>0.075104</td>\n",
       "      <td>0.056602</td>\n",
       "      <td>0.111031</td>\n",
       "      <td>0.001223</td>\n",
       "      <td>0.082044</td>\n",
       "      <td>0.003539</td>\n",
       "      <td>0.001730</td>\n",
       "    </tr>\n",
       "    <tr>\n",
       "      <th>1</th>\n",
       "      <td>0</td>\n",
       "      <td>1</td>\n",
       "      <td>맞아. 사람들이 진짜 개념이없다</td>\n",
       "      <td>['CENSURE']</td>\n",
       "      <td>True</td>\n",
       "      <td>2.0</td>\n",
       "      <td>B</td>\n",
       "      <td>0.962885</td>\n",
       "      <td>0.002928</td>\n",
       "      <td>0.006041</td>\n",
       "      <td>...</td>\n",
       "      <td>0.317529</td>\n",
       "      <td>0.246773</td>\n",
       "      <td>0.084680</td>\n",
       "      <td>0.110543</td>\n",
       "      <td>0.123408</td>\n",
       "      <td>0.068188</td>\n",
       "      <td>0.000862</td>\n",
       "      <td>0.281097</td>\n",
       "      <td>0.001550</td>\n",
       "      <td>0.003915</td>\n",
       "    </tr>\n",
       "    <tr>\n",
       "      <th>2</th>\n",
       "      <td>0</td>\n",
       "      <td>2</td>\n",
       "      <td>저렇게는 살지 말아야지</td>\n",
       "      <td>['CENSURE']</td>\n",
       "      <td>True</td>\n",
       "      <td>2.0</td>\n",
       "      <td>A</td>\n",
       "      <td>0.848221</td>\n",
       "      <td>0.001995</td>\n",
       "      <td>0.008851</td>\n",
       "      <td>...</td>\n",
       "      <td>0.647499</td>\n",
       "      <td>0.172025</td>\n",
       "      <td>0.288276</td>\n",
       "      <td>0.046891</td>\n",
       "      <td>0.508400</td>\n",
       "      <td>0.106782</td>\n",
       "      <td>0.002143</td>\n",
       "      <td>0.513087</td>\n",
       "      <td>0.002387</td>\n",
       "      <td>0.002772</td>\n",
       "    </tr>\n",
       "    <tr>\n",
       "      <th>3</th>\n",
       "      <td>0</td>\n",
       "      <td>3</td>\n",
       "      <td>그러게 게으르고 멍청한 사람들은 맞아야해</td>\n",
       "      <td>['CENSURE']</td>\n",
       "      <td>True</td>\n",
       "      <td>2.0</td>\n",
       "      <td>B</td>\n",
       "      <td>0.787709</td>\n",
       "      <td>0.003780</td>\n",
       "      <td>0.006107</td>\n",
       "      <td>...</td>\n",
       "      <td>0.170331</td>\n",
       "      <td>0.094054</td>\n",
       "      <td>0.026338</td>\n",
       "      <td>0.103005</td>\n",
       "      <td>0.314593</td>\n",
       "      <td>0.013974</td>\n",
       "      <td>0.001491</td>\n",
       "      <td>0.062749</td>\n",
       "      <td>0.002502</td>\n",
       "      <td>0.004004</td>\n",
       "    </tr>\n",
       "    <tr>\n",
       "      <th>4</th>\n",
       "      <td>1</td>\n",
       "      <td>0</td>\n",
       "      <td>인방 보는 남자는 거르는게 맞다</td>\n",
       "      <td>['CENSURE']</td>\n",
       "      <td>True</td>\n",
       "      <td>1.0</td>\n",
       "      <td>A</td>\n",
       "      <td>0.749683</td>\n",
       "      <td>0.014485</td>\n",
       "      <td>0.013222</td>\n",
       "      <td>...</td>\n",
       "      <td>0.319111</td>\n",
       "      <td>0.319428</td>\n",
       "      <td>0.022047</td>\n",
       "      <td>0.219026</td>\n",
       "      <td>0.183416</td>\n",
       "      <td>0.051595</td>\n",
       "      <td>0.004540</td>\n",
       "      <td>0.194536</td>\n",
       "      <td>0.009818</td>\n",
       "      <td>0.017963</td>\n",
       "    </tr>\n",
       "  </tbody>\n",
       "</table>\n",
       "<p>5 rows × 51 columns</p>\n",
       "</div>"
      ],
      "text/plain": [
       "   conversation_idx  sentence_idx                  origin_text        types  \\\n",
       "0                 0             0  부랴부랴 왔는데 아무도 안왔네. 시간개념들이 없네  ['CENSURE']   \n",
       "1                 0             1            맞아. 사람들이 진짜 개념이없다  ['CENSURE']   \n",
       "2                 0             2                 저렇게는 살지 말아야지  ['CENSURE']   \n",
       "3                 0             3       그러게 게으르고 멍청한 사람들은 맞아야해  ['CENSURE']   \n",
       "4                 1             0            인방 보는 남자는 거르는게 맞다  ['CENSURE']   \n",
       "\n",
       "   is_immoral  intensity speaker     불평/불만     환영/호의     감동/감탄  ...        경악  \\\n",
       "0        True        2.0       A  0.951885  0.002854  0.003995  ...  0.147897   \n",
       "1        True        2.0       B  0.962885  0.002928  0.006041  ...  0.317529   \n",
       "2        True        2.0       A  0.848221  0.001995  0.008851  ...  0.647499   \n",
       "3        True        2.0       B  0.787709  0.003780  0.006107  ...  0.170331   \n",
       "4        True        1.0       A  0.749683  0.014485  0.013222  ...  0.319111   \n",
       "\n",
       "    부담/안_내킴       서러움      재미없음    불쌍함/연민        놀람        행복     불안/걱정  \\\n",
       "0  0.099539  0.044339  0.075104  0.056602  0.111031  0.001223  0.082044   \n",
       "1  0.246773  0.084680  0.110543  0.123408  0.068188  0.000862  0.281097   \n",
       "2  0.172025  0.288276  0.046891  0.508400  0.106782  0.002143  0.513087   \n",
       "3  0.094054  0.026338  0.103005  0.314593  0.013974  0.001491  0.062749   \n",
       "4  0.319428  0.022047  0.219026  0.183416  0.051595  0.004540  0.194536   \n",
       "\n",
       "         기쁨     안심/신뢰  \n",
       "0  0.003539  0.001730  \n",
       "1  0.001550  0.003915  \n",
       "2  0.002387  0.002772  \n",
       "3  0.002502  0.004004  \n",
       "4  0.009818  0.017963  \n",
       "\n",
       "[5 rows x 51 columns]"
      ]
     },
     "execution_count": 11,
     "metadata": {},
     "output_type": "execute_result"
    }
   ],
   "source": [
    "df.head()"
   ]
  },
  {
   "cell_type": "code",
   "execution_count": 15,
   "metadata": {},
   "outputs": [],
   "source": [
    "valid = pd.read_csv(\"텍스트_윤리검증_valid.csv\")"
   ]
  },
  {
   "cell_type": "code",
   "execution_count": 16,
   "metadata": {},
   "outputs": [
    {
     "name": "stderr",
     "output_type": "stream",
     "text": [
      "100%|██████████| 45215/45215 [14:17<00:00, 52.72it/s]\n"
     ]
    }
   ],
   "source": [
    "for label in label_list:\n",
    "    if label not in valid.columns:\n",
    "        valid[label] = 0.0  # 초기값을 0.0으로 설정\n",
    "\n",
    "for i in tqdm(range(len(valid))):\n",
    "    result = pipe(valid['origin_text'][i])\n",
    "    \n",
    "    for j in range(len(label_list)):\n",
    "        valid.loc[i, label_list[j]] = result[0][j]['score']"
   ]
  },
  {
   "cell_type": "code",
   "execution_count": 17,
   "metadata": {},
   "outputs": [],
   "source": [
    "valid.to_csv('emotion_labeld_valid.csv', index=False)"
   ]
  },
  {
   "cell_type": "code",
   "execution_count": 11,
   "metadata": {},
   "outputs": [],
   "source": [
    "import pandas as pd\n",
    "df = pd.read_csv('emotion_labeld_text.csv')"
   ]
  },
  {
   "cell_type": "code",
   "execution_count": 12,
   "metadata": {},
   "outputs": [],
   "source": [
    "type_label = [\"DISCRIMINATION\",\"HATE\",\"CENSURE\",\"VIOLENCE\",\"CRIME\",\"SEXUAL\",\"ABUSE\"]"
   ]
  },
  {
   "cell_type": "code",
   "execution_count": 13,
   "metadata": {},
   "outputs": [],
   "source": [
    "# type label 초기화\n",
    "for label in type_label:\n",
    "    df[label] = 0.0\n",
    "    "
   ]
  },
  {
   "cell_type": "code",
   "execution_count": 14,
   "metadata": {},
   "outputs": [],
   "source": [
    "df['types'] = df['types'].apply(lambda x: x.replace(\"[\",\"\").replace(\"]\",\"\").replace(\"'\",\"\").replace(\" \",\"\").split(\",\"))"
   ]
  },
  {
   "cell_type": "code",
   "execution_count": 16,
   "metadata": {},
   "outputs": [],
   "source": [
    "for i in range(len(df)):\n",
    "    # types 에 있는 list를 하나씩 가져와서 해당하는 label에 값을 넣어준다.\n",
    "    for type in df['types'][i]:\n",
    "        df.loc[i, type] = 1.0"
   ]
  },
  {
   "cell_type": "code",
   "execution_count": 18,
   "metadata": {},
   "outputs": [],
   "source": [
    "df.drop(['types', 'IMMORAL_NONE'], axis=1, inplace=True)"
   ]
  },
  {
   "cell_type": "code",
   "execution_count": 22,
   "metadata": {},
   "outputs": [],
   "source": [
    "df.to_csv('emotion_labeld_text.csv', index=False)"
   ]
  },
  {
   "cell_type": "code",
   "execution_count": null,
   "metadata": {},
   "outputs": [],
   "source": []
  }
 ],
 "metadata": {
  "kernelspec": {
   "display_name": "Python 3",
   "language": "python",
   "name": "python3"
  },
  "language_info": {
   "codemirror_mode": {
    "name": "ipython",
    "version": 3
   },
   "file_extension": ".py",
   "mimetype": "text/x-python",
   "name": "python",
   "nbconvert_exporter": "python",
   "pygments_lexer": "ipython3",
   "version": "3.9.18"
  }
 },
 "nbformat": 4,
 "nbformat_minor": 2
}
